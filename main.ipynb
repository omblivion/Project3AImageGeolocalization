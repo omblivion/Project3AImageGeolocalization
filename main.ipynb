{
 "metadata": {
  "kernelspec": {
   "language": "python",
   "display_name": "Python 3",
   "name": "python3"
  },
  "language_info": {
   "name": "python",
   "version": "3.10.12",
   "mimetype": "text/x-python",
   "codemirror_mode": {
    "name": "ipython",
    "version": 3
   },
   "pygments_lexer": "ipython3",
   "nbconvert_exporter": "python",
   "file_extension": ".py"
  },
  "kaggle": {
   "accelerator": "nvidiaTeslaT4",
   "dataSources": [],
   "dockerImageVersionId": 30579,
   "isInternetEnabled": true,
   "language": "python",
   "sourceType": "notebook",
   "isGpuEnabled": true
  }
 },
 "nbformat_minor": 4,
 "nbformat": 4,
 "cells": [
  {
   "cell_type": "code",
   "source": [
    "!rm -r Project3AImageGeolocalization\n",
    "# !git clone https://github.com/omblivion/Project3AImageGeolocalization.git\n",
    "!git clone -b mining-strategy https://github.com/omblivion/Project3AImageGeolocalization.git"
   ],
   "metadata": {
    "execution": {
     "iopub.status.busy": "2023-12-11T08:13:20.733393Z",
     "iopub.execute_input": "2023-12-11T08:13:20.733636Z",
     "iopub.status.idle": "2023-12-11T08:13:23.416702Z",
     "shell.execute_reply.started": "2023-12-11T08:13:20.733614Z",
     "shell.execute_reply": "2023-12-11T08:13:23.415553Z"
    },
    "trusted": true
   },
   "execution_count": 1,
   "outputs": [
    {
     "name": "stdout",
     "text": "Cloning into 'Project3AImageGeolocalization'...\nremote: Enumerating objects: 333, done.\u001B[K\nremote: Counting objects: 100% (145/145), done.\u001B[K\nremote: Compressing objects: 100% (103/103), done.\u001B[K\nremote: Total 333 (delta 81), reused 80 (delta 42), pack-reused 188\u001B[K\nReceiving objects: 100% (333/333), 196.15 KiB | 8.17 MiB/s, done.\nResolving deltas: 100% (211/211), done.\n",
     "output_type": "stream"
    }
   ]
  },
  {
   "cell_type": "code",
   "source": [
    "!pip uninstall torch torchvision torchaudio torchtext torchdata numpy -y\n",
    "!pip install -r Project3AImageGeolocalization/requirements.txt"
   ],
   "metadata": {
    "execution": {
     "iopub.status.busy": "2023-12-11T08:18:16.493804Z",
     "iopub.execute_input": "2023-12-11T08:18:16.494779Z",
     "iopub.status.idle": "2023-12-11T08:21:09.617018Z",
     "shell.execute_reply.started": "2023-12-11T08:18:16.494741Z",
     "shell.execute_reply": "2023-12-11T08:21:09.615734Z"
    },
    "trusted": true
   },
   "execution_count": 2,
   "outputs": [
    {
     "name": "stdout",
     "text": "Found existing installation: torch 2.0.0\nUninstalling torch-2.0.0:\n  Successfully uninstalled torch-2.0.0\nFound existing installation: torchvision 0.15.1\nUninstalling torchvision-0.15.1:\n  Successfully uninstalled torchvision-0.15.1\nFound existing installation: torchaudio 2.0.1\nUninstalling torchaudio-2.0.1:\n  Successfully uninstalled torchaudio-2.0.1\nFound existing installation: torchtext 0.15.1\nUninstalling torchtext-0.15.1:\n  Successfully uninstalled torchtext-0.15.1\nFound existing installation: torchdata 0.6.0\nUninstalling torchdata-0.6.0:\n  Successfully uninstalled torchdata-0.6.0\nFound existing installation: numpy 1.24.3\nUninstalling numpy-1.24.3:\n  Successfully uninstalled numpy-1.24.3\nLooking in indexes: https://pypi.org/simple, https://download.pytorch.org/whl/cu116\nCollecting torch==1.13.1+cu116 (from -r Project3AImageGeolocalization/requirements.txt (line 3))\n  Downloading https://download.pytorch.org/whl/cu116/torch-1.13.1%2Bcu116-cp310-cp310-linux_x86_64.whl (1977.9 MB)\n\u001B[2K     \u001B[90m━━━━━━━━━━━━━━━━━━━━━━━━━━━━━━━━━━━━━━━━\u001B[0m \u001B[32m2.0/2.0 GB\u001B[0m \u001B[31m592.7 kB/s\u001B[0m eta \u001B[36m0:00:00\u001B[0m0:01\u001B[0m00:01\u001B[0mm\n\u001B[?25hCollecting torchvision==0.14.1+cu116 (from -r Project3AImageGeolocalization/requirements.txt (line 4))\n  Downloading https://download.pytorch.org/whl/cu116/torchvision-0.14.1%2Bcu116-cp310-cp310-linux_x86_64.whl (24.2 MB)\n\u001B[2K     \u001B[90m━━━━━━━━━━━━━━━━━━━━━━━━━━━━━━━━━━━━━━━━\u001B[0m \u001B[32m24.2/24.2 MB\u001B[0m \u001B[31m18.7 MB/s\u001B[0m eta \u001B[36m0:00:00\u001B[0m00:01\u001B[0m00:01\u001B[0m\n\u001B[?25hCollecting faiss-cpu==1.7.3 (from -r Project3AImageGeolocalization/requirements.txt (line 5))\n  Downloading faiss_cpu-1.7.3-cp310-cp310-manylinux_2_17_x86_64.manylinux2014_x86_64.whl (17.0 MB)\n\u001B[2K     \u001B[90m━━━━━━━━━━━━━━━━━━━━━━━━━━━━━━━━━━━━━━━━\u001B[0m \u001B[32m17.0/17.0 MB\u001B[0m \u001B[31m67.4 MB/s\u001B[0m eta \u001B[36m0:00:00\u001B[0m00:01\u001B[0m00:01\u001B[0m\n\u001B[?25hCollecting pytorch-lightning==1.9.4 (from -r Project3AImageGeolocalization/requirements.txt (line 6))\n  Downloading pytorch_lightning-1.9.4-py3-none-any.whl (827 kB)\n\u001B[2K     \u001B[90m━━━━━━━━━━━━━━━━━━━━━━━━━━━━━━━━━━━━━━\u001B[0m \u001B[32m827.8/827.8 kB\u001B[0m \u001B[31m51.2 MB/s\u001B[0m eta \u001B[36m0:00:00\u001B[0m\n\u001B[?25hCollecting pytorch-metric-learning==2.0.1 (from -r Project3AImageGeolocalization/requirements.txt (line 7))\n  Downloading pytorch_metric_learning-2.0.1-py3-none-any.whl (109 kB)\n\u001B[2K     \u001B[90m━━━━━━━━━━━━━━━━━━━━━━━━━━━━━━━━━━━━━━\u001B[0m \u001B[32m109.3/109.3 kB\u001B[0m \u001B[31m10.5 MB/s\u001B[0m eta \u001B[36m0:00:00\u001B[0m\n\u001B[?25hCollecting opencv-python==4.7.0.72 (from -r Project3AImageGeolocalization/requirements.txt (line 8))\n  Downloading opencv_python-4.7.0.72-cp37-abi3-manylinux_2_17_x86_64.manylinux2014_x86_64.whl (61.8 MB)\n\u001B[2K     \u001B[90m━━━━━━━━━━━━━━━━━━━━━━━━━━━━━━━━━━━━━━━━\u001B[0m \u001B[32m61.8/61.8 MB\u001B[0m \u001B[31m21.3 MB/s\u001B[0m eta \u001B[36m0:00:00\u001B[0m00:01\u001B[0m00:01\u001B[0m\n\u001B[?25hCollecting scikit-image==0.19.3 (from -r Project3AImageGeolocalization/requirements.txt (line 9))\n  Downloading scikit_image-0.19.3-cp310-cp310-manylinux_2_17_x86_64.manylinux2014_x86_64.whl (13.9 MB)\n\u001B[2K     \u001B[90m━━━━━━━━━━━━━━━━━━━━━━━━━━━━━━━━━━━━━━━━\u001B[0m \u001B[32m13.9/13.9 MB\u001B[0m \u001B[31m86.3 MB/s\u001B[0m eta \u001B[36m0:00:00\u001B[0m00:01\u001B[0m00:01\u001B[0m\n\u001B[?25hCollecting googledrivedownloader==0.4 (from -r Project3AImageGeolocalization/requirements.txt (line 10))\n  Downloading googledrivedownloader-0.4-py2.py3-none-any.whl (3.9 kB)\nCollecting gdown==4.7.1 (from -r Project3AImageGeolocalization/requirements.txt (line 11))\n  Downloading gdown-4.7.1-py3-none-any.whl (15 kB)\nCollecting numpy==1.22.4 (from -r Project3AImageGeolocalization/requirements.txt (line 12))\n  Downloading numpy-1.22.4-cp310-cp310-manylinux_2_17_x86_64.manylinux2014_x86_64.whl (16.8 MB)\n\u001B[2K     \u001B[90m━━━━━━━━━━━━━━━━━━━━━━━━━━━━━━━━━━━━━━━━\u001B[0m \u001B[32m16.8/16.8 MB\u001B[0m \u001B[31m71.3 MB/s\u001B[0m eta \u001B[36m0:00:00\u001B[0m00:01\u001B[0m00:01\u001B[0m\n\u001B[?25hRequirement already satisfied: typing-extensions in /opt/conda/lib/python3.10/site-packages (from torch==1.13.1+cu116->-r Project3AImageGeolocalization/requirements.txt (line 3)) (4.5.0)\nRequirement already satisfied: requests in /opt/conda/lib/python3.10/site-packages (from torchvision==0.14.1+cu116->-r Project3AImageGeolocalization/requirements.txt (line 4)) (2.31.0)\nRequirement already satisfied: pillow!=8.3.*,>=5.3.0 in /opt/conda/lib/python3.10/site-packages (from torchvision==0.14.1+cu116->-r Project3AImageGeolocalization/requirements.txt (line 4)) (10.1.0)\nRequirement already satisfied: tqdm>=4.57.0 in /opt/conda/lib/python3.10/site-packages (from pytorch-lightning==1.9.4->-r Project3AImageGeolocalization/requirements.txt (line 6)) (4.66.1)\nRequirement already satisfied: PyYAML>=5.4 in /opt/conda/lib/python3.10/site-packages (from pytorch-lightning==1.9.4->-r Project3AImageGeolocalization/requirements.txt (line 6)) (6.0.1)\nRequirement already satisfied: fsspec[http]>2021.06.0 in /opt/conda/lib/python3.10/site-packages (from pytorch-lightning==1.9.4->-r Project3AImageGeolocalization/requirements.txt (line 6)) (2023.10.0)\nRequirement already satisfied: torchmetrics>=0.7.0 in /opt/conda/lib/python3.10/site-packages (from pytorch-lightning==1.9.4->-r Project3AImageGeolocalization/requirements.txt (line 6)) (1.2.0)\nRequirement already satisfied: packaging>=17.1 in /opt/conda/lib/python3.10/site-packages (from pytorch-lightning==1.9.4->-r Project3AImageGeolocalization/requirements.txt (line 6)) (21.3)\nRequirement already satisfied: lightning-utilities>=0.6.0.post0 in /opt/conda/lib/python3.10/site-packages (from pytorch-lightning==1.9.4->-r Project3AImageGeolocalization/requirements.txt (line 6)) (0.9.0)\nRequirement already satisfied: scikit-learn in /opt/conda/lib/python3.10/site-packages (from pytorch-metric-learning==2.0.1->-r Project3AImageGeolocalization/requirements.txt (line 7)) (1.2.2)\nRequirement already satisfied: scipy>=1.4.1 in /opt/conda/lib/python3.10/site-packages (from scikit-image==0.19.3->-r Project3AImageGeolocalization/requirements.txt (line 9)) (1.11.3)\nRequirement already satisfied: networkx>=2.2 in /opt/conda/lib/python3.10/site-packages (from scikit-image==0.19.3->-r Project3AImageGeolocalization/requirements.txt (line 9)) (3.1)\nRequirement already satisfied: imageio>=2.4.1 in /opt/conda/lib/python3.10/site-packages (from scikit-image==0.19.3->-r Project3AImageGeolocalization/requirements.txt (line 9)) (2.31.1)\nRequirement already satisfied: tifffile>=2019.7.26 in /opt/conda/lib/python3.10/site-packages (from scikit-image==0.19.3->-r Project3AImageGeolocalization/requirements.txt (line 9)) (2023.8.12)\nRequirement already satisfied: PyWavelets>=1.1.1 in /opt/conda/lib/python3.10/site-packages (from scikit-image==0.19.3->-r Project3AImageGeolocalization/requirements.txt (line 9)) (1.4.1)\nRequirement already satisfied: filelock in /opt/conda/lib/python3.10/site-packages (from gdown==4.7.1->-r Project3AImageGeolocalization/requirements.txt (line 11)) (3.12.2)\nRequirement already satisfied: six in /opt/conda/lib/python3.10/site-packages (from gdown==4.7.1->-r Project3AImageGeolocalization/requirements.txt (line 11)) (1.16.0)\nRequirement already satisfied: beautifulsoup4 in /opt/conda/lib/python3.10/site-packages (from gdown==4.7.1->-r Project3AImageGeolocalization/requirements.txt (line 11)) (4.12.2)\nRequirement already satisfied: aiohttp!=4.0.0a0,!=4.0.0a1 in /opt/conda/lib/python3.10/site-packages (from fsspec[http]>2021.06.0->pytorch-lightning==1.9.4->-r Project3AImageGeolocalization/requirements.txt (line 6)) (3.8.5)\nRequirement already satisfied: pyparsing!=3.0.5,>=2.0.2 in /opt/conda/lib/python3.10/site-packages (from packaging>=17.1->pytorch-lightning==1.9.4->-r Project3AImageGeolocalization/requirements.txt (line 6)) (3.0.9)\nRequirement already satisfied: soupsieve>1.2 in /opt/conda/lib/python3.10/site-packages (from beautifulsoup4->gdown==4.7.1->-r Project3AImageGeolocalization/requirements.txt (line 11)) (2.3.2.post1)\nRequirement already satisfied: charset-normalizer<4,>=2 in /opt/conda/lib/python3.10/site-packages (from requests->torchvision==0.14.1+cu116->-r Project3AImageGeolocalization/requirements.txt (line 4)) (3.2.0)\nRequirement already satisfied: idna<4,>=2.5 in /opt/conda/lib/python3.10/site-packages (from requests->torchvision==0.14.1+cu116->-r Project3AImageGeolocalization/requirements.txt (line 4)) (3.4)\nRequirement already satisfied: urllib3<3,>=1.21.1 in /opt/conda/lib/python3.10/site-packages (from requests->torchvision==0.14.1+cu116->-r Project3AImageGeolocalization/requirements.txt (line 4)) (1.26.15)\nRequirement already satisfied: certifi>=2017.4.17 in /opt/conda/lib/python3.10/site-packages (from requests->torchvision==0.14.1+cu116->-r Project3AImageGeolocalization/requirements.txt (line 4)) (2023.7.22)\nRequirement already satisfied: PySocks!=1.5.7,>=1.5.6 in /opt/conda/lib/python3.10/site-packages (from requests->torchvision==0.14.1+cu116->-r Project3AImageGeolocalization/requirements.txt (line 4)) (1.7.1)\nRequirement already satisfied: joblib>=1.1.1 in /opt/conda/lib/python3.10/site-packages (from scikit-learn->pytorch-metric-learning==2.0.1->-r Project3AImageGeolocalization/requirements.txt (line 7)) (1.3.2)\nRequirement already satisfied: threadpoolctl>=2.0.0 in /opt/conda/lib/python3.10/site-packages (from scikit-learn->pytorch-metric-learning==2.0.1->-r Project3AImageGeolocalization/requirements.txt (line 7)) (3.2.0)\nRequirement already satisfied: attrs>=17.3.0 in /opt/conda/lib/python3.10/site-packages (from aiohttp!=4.0.0a0,!=4.0.0a1->fsspec[http]>2021.06.0->pytorch-lightning==1.9.4->-r Project3AImageGeolocalization/requirements.txt (line 6)) (23.1.0)\nRequirement already satisfied: multidict<7.0,>=4.5 in /opt/conda/lib/python3.10/site-packages (from aiohttp!=4.0.0a0,!=4.0.0a1->fsspec[http]>2021.06.0->pytorch-lightning==1.9.4->-r Project3AImageGeolocalization/requirements.txt (line 6)) (6.0.4)\nRequirement already satisfied: async-timeout<5.0,>=4.0.0a3 in /opt/conda/lib/python3.10/site-packages (from aiohttp!=4.0.0a0,!=4.0.0a1->fsspec[http]>2021.06.0->pytorch-lightning==1.9.4->-r Project3AImageGeolocalization/requirements.txt (line 6)) (4.0.3)\nRequirement already satisfied: yarl<2.0,>=1.0 in /opt/conda/lib/python3.10/site-packages (from aiohttp!=4.0.0a0,!=4.0.0a1->fsspec[http]>2021.06.0->pytorch-lightning==1.9.4->-r Project3AImageGeolocalization/requirements.txt (line 6)) (1.9.2)\nRequirement already satisfied: frozenlist>=1.1.1 in /opt/conda/lib/python3.10/site-packages (from aiohttp!=4.0.0a0,!=4.0.0a1->fsspec[http]>2021.06.0->pytorch-lightning==1.9.4->-r Project3AImageGeolocalization/requirements.txt (line 6)) (1.4.0)\nRequirement already satisfied: aiosignal>=1.1.2 in /opt/conda/lib/python3.10/site-packages (from aiohttp!=4.0.0a0,!=4.0.0a1->fsspec[http]>2021.06.0->pytorch-lightning==1.9.4->-r Project3AImageGeolocalization/requirements.txt (line 6)) (1.3.1)\nInstalling collected packages: googledrivedownloader, faiss-cpu, torch, numpy, torchvision, opencv-python, scikit-image, gdown, pytorch-metric-learning, pytorch-lightning\n  Attempting uninstall: numpy\n    Found existing installation: numpy 1.26.1\n    Uninstalling numpy-1.26.1:\n      Successfully uninstalled numpy-1.26.1\n  Attempting uninstall: opencv-python\n    Found existing installation: opencv-python 4.8.1.78\n    Uninstalling opencv-python-4.8.1.78:\n      Successfully uninstalled opencv-python-4.8.1.78\n  Attempting uninstall: scikit-image\n    Found existing installation: scikit-image 0.21.0\n    Uninstalling scikit-image-0.21.0:\n      Successfully uninstalled scikit-image-0.21.0\n  Attempting uninstall: pytorch-lightning\n    Found existing installation: pytorch-lightning 2.1.0\n    Uninstalling pytorch-lightning-2.1.0:\n      Successfully uninstalled pytorch-lightning-2.1.0\n\u001B[31mERROR: pip's dependency resolver does not currently take into account all the packages that are installed. This behaviour is the source of the following dependency conflicts.\ncudf 23.8.0 requires cupy-cuda11x>=12.0.0, which is not installed.\ncuml 23.8.0 requires cupy-cuda11x>=12.0.0, which is not installed.\ndask-cudf 23.8.0 requires cupy-cuda11x>=12.0.0, which is not installed.\napache-beam 2.46.0 requires dill<0.3.2,>=0.3.1.1, but you have dill 0.3.7 which is incompatible.\napache-beam 2.46.0 requires pyarrow<10.0.0,>=3.0.0, but you have pyarrow 11.0.0 which is incompatible.\nchex 0.1.84 requires numpy>=1.24.1, but you have numpy 1.22.4 which is incompatible.\ncudf 23.8.0 requires pandas<1.6.0dev0,>=1.3, but you have pandas 2.0.3 which is incompatible.\ncudf 23.8.0 requires protobuf<5,>=4.21, but you have protobuf 3.20.3 which is incompatible.\ncuml 23.8.0 requires dask==2023.7.1, but you have dask 2023.10.1 which is incompatible.\ncuml 23.8.0 requires distributed==2023.7.1, but you have distributed 2023.10.1 which is incompatible.\ndask-cuda 23.8.0 requires dask==2023.7.1, but you have dask 2023.10.1 which is incompatible.\ndask-cuda 23.8.0 requires distributed==2023.7.1, but you have distributed 2023.10.1 which is incompatible.\ndask-cuda 23.8.0 requires pandas<1.6.0dev0,>=1.3, but you have pandas 2.0.3 which is incompatible.\ndask-cudf 23.8.0 requires dask==2023.7.1, but you have dask 2023.10.1 which is incompatible.\ndask-cudf 23.8.0 requires distributed==2023.7.1, but you have distributed 2023.10.1 which is incompatible.\ndask-cudf 23.8.0 requires pandas<1.6.0dev0,>=1.3, but you have pandas 2.0.3 which is incompatible.\ninequality 1.0.1 requires numpy>=1.23, but you have numpy 1.22.4 which is incompatible.\nlibpysal 4.9.2 requires packaging>=22, but you have packaging 21.3 which is incompatible.\nlibpysal 4.9.2 requires shapely>=2.0.1, but you have shapely 1.8.5.post1 which is incompatible.\nmomepy 0.6.0 requires shapely>=2, but you have shapely 1.8.5.post1 which is incompatible.\npins 0.8.3 requires fsspec<2023.9.0,>=0.8.0, but you have fsspec 2023.10.0 which is incompatible.\npymc3 3.11.5 requires numpy<1.22.2,>=1.15.0, but you have numpy 1.22.4 which is incompatible.\npymc3 3.11.5 requires scipy<1.8.0,>=1.7.3, but you have scipy 1.11.3 which is incompatible.\nraft-dask 23.8.0 requires dask==2023.7.1, but you have dask 2023.10.1 which is incompatible.\nraft-dask 23.8.0 requires distributed==2023.7.1, but you have distributed 2023.10.1 which is incompatible.\nspglm 1.1.0 requires numpy>=1.23, but you have numpy 1.22.4 which is incompatible.\nspreg 1.4.1 requires numpy>=1.23, but you have numpy 1.22.4 which is incompatible.\ntensorflowjs 4.12.0 requires packaging~=23.1, but you have packaging 21.3 which is incompatible.\u001B[0m\u001B[31m\n\u001B[0mSuccessfully installed faiss-cpu-1.7.3 gdown-4.7.1 googledrivedownloader-0.4 numpy-1.22.4 opencv-python-4.7.0.72 pytorch-lightning-1.9.4 pytorch-metric-learning-2.0.1 scikit-image-0.19.3 torch-1.13.1+cu116 torchvision-0.14.1+cu116\n",
     "output_type": "stream"
    }
   ]
  },
  {
   "cell_type": "code",
   "source": [
    "!gdown https://drive.google.com/uc?id=1q7usSe9_5xV5zTfN-1In4DlmF5ReyU_A\n",
    "!gdown https://drive.google.com/uc?id=1tQqEyt3go3vMh4fj_LZrRcahoTbzzH-y\n",
    "!gdown https://drive.google.com/uc?id=15QB3VNKj93027UAQWv7pzFQO1JDCdZj2"
   ],
   "metadata": {
    "execution": {
     "iopub.status.busy": "2023-12-10T16:05:16.886218Z",
     "iopub.execute_input": "2023-12-10T16:05:16.886562Z",
     "iopub.status.idle": "2023-12-10T16:06:04.136403Z",
     "shell.execute_reply.started": "2023-12-10T16:05:16.886535Z",
     "shell.execute_reply": "2023-12-10T16:06:04.135131Z"
    },
    "trusted": true
   },
   "execution_count": null,
   "outputs": []
  },
  {
   "cell_type": "code",
   "source": [
    "# unzip the datasets to /content, so you dont risk going over the GDrive storage limit\n",
    "# this can take a few minutes\n",
    "!unzip -q gsv_xs.zip -d ./data\n",
    "!unzip -q tokyo_xs.zip -d ./data\n",
    "!unzip -q sf_xs.zip -d ./data"
   ],
   "metadata": {
    "execution": {
     "iopub.status.busy": "2023-12-10T16:06:04.139177Z",
     "iopub.execute_input": "2023-12-10T16:06:04.139519Z",
     "iopub.status.idle": "2023-12-10T16:08:00.422050Z",
     "shell.execute_reply.started": "2023-12-10T16:06:04.139494Z",
     "shell.execute_reply": "2023-12-10T16:08:00.420808Z"
    },
    "trusted": true
   },
   "execution_count": null,
   "outputs": []
  },
  {
   "cell_type": "code",
   "source": [
    "!rm gsv_xs.zip tokyo_xs.zip sf_xs.zip"
   ],
   "metadata": {
    "execution": {
     "iopub.status.busy": "2023-12-10T16:08:00.423635Z",
     "iopub.execute_input": "2023-12-10T16:08:00.423982Z",
     "iopub.status.idle": "2023-12-10T16:08:02.531483Z",
     "shell.execute_reply.started": "2023-12-10T16:08:00.423953Z",
     "shell.execute_reply": "2023-12-10T16:08:02.529617Z"
    },
    "trusted": true
   },
   "execution_count": null,
   "outputs": []
  },
  {
   "cell_type": "code",
   "source": [
    "!ls"
   ],
   "metadata": {
    "execution": {
     "iopub.status.busy": "2023-12-10T16:08:02.534202Z",
     "iopub.execute_input": "2023-12-10T16:08:02.534735Z",
     "iopub.status.idle": "2023-12-10T16:08:03.643979Z",
     "shell.execute_reply.started": "2023-12-10T16:08:02.534685Z",
     "shell.execute_reply": "2023-12-10T16:08:03.642420Z"
    },
    "trusted": true
   },
   "execution_count": null,
   "outputs": []
  },
  {
   "cell_type": "code",
   "source": [
    "# !ls ./LOGS/lightning_logs/version_0/checkpoints"
   ],
   "metadata": {},
   "execution_count": null,
   "outputs": []
  },
  {
   "cell_type": "code",
   "source": [
    "!ls ./LOGS/lightning_logs/version_0/checkpoints"
   ],
   "metadata": {
    "execution": {
     "iopub.status.busy": "2023-11-20T17:34:31.062389Z",
     "iopub.execute_input": "2023-11-20T17:34:31.063288Z",
     "iopub.status.idle": "2023-11-20T17:34:32.027048Z",
     "shell.execute_reply.started": "2023-11-20T17:34:31.063254Z",
     "shell.execute_reply": "2023-11-20T17:34:32.025993Z"
    },
    "trusted": true
   },
   "execution_count": null,
   "outputs": []
  },
  {
   "cell_type": "markdown",
   "source": [],
   "metadata": {}
  },
  {
   "cell_type": "code",
   "source": [
    "!rm -r ./LOGS"
   ],
   "metadata": {
    "execution": {
     "iopub.status.busy": "2023-11-20T17:23:37.140862Z",
     "iopub.execute_input": "2023-11-20T17:23:37.141844Z",
     "iopub.status.idle": "2023-11-20T17:23:38.103003Z",
     "shell.execute_reply.started": "2023-11-20T17:23:37.141795Z",
     "shell.execute_reply": "2023-11-20T17:23:38.101692Z"
    },
    "trusted": true
   },
   "execution_count": null,
   "outputs": []
  },
  {
   "cell_type": "code",
   "source": [
    "!python Project3AImageGeolocalization/main.py \\\n",
    "    --train_path data/gsv_xs/train/osaka \\\n",
    "    --val_path data/sf_xs/test \\\n",
    "    --test_path data/sf_xs/val \\\n",
    "    --num_workers 4 \\\n",
    "    --mining_str contextual \\\n",
    "    --max_epochs 50"
   ],
   "metadata": {
    "execution": {
     "iopub.status.busy": "2023-12-11T08:22:34.412324Z",
     "iopub.execute_input": "2023-12-11T08:22:34.412711Z"
    },
    "trusted": true
   },
   "execution_count": null,
   "outputs": [
    {
     "name": "stdout",
     "text": "\n .----------------. .----------------. .----------------. .----------------. .----------------. \n| .--------------. | .--------------. | .--------------. | .--------------. | .--------------. |\n| | ____    ____ | | |   _____      | | |    ___       | | |  ________    | | |   _____      | |\n| ||_   \\  /   _|| | |  |_   _|     | | |  .' _ '.     | | | |_   ___ `.  | | |  |_   _|     | |\n| |  |   \\/   |  | | |    | |       | | |  | (_) '___  | | |   | |   `. \\ | | |    | |       | |\n| |  | |\\  /| |  | | |    | |   _   | | |  .`___'/ _/  | | |   | |    | | | | |    | |   _   | |\n| | _| |_\\/_| |_ | | |   _| |__/ |  | | | | (___)  \\_  | | |  _| |___.' / | | |   _| |__/ |  | |\n| ||_____||_____|| | |  |________|  | | | `._____.\\__| | | | |________.'  | | |  |________|  | |\n| |              | | |              | | |              | | |              | | |              | |\n| '--------------' | '--------------' | '--------------' | '--------------' | '--------------' |\n '----------------' '----------------' '----------------' '----------------' '----------------' \n    \nWelcome to the ML&DL Project! Please wait while the program is starting up...\n\nNo checkpoint provided, initializing model for training...\nPreparing datasets and dataloaders...\nDatasets and dataloaders ready.\nInitializing the model...\nDownloading: \"https://download.pytorch.org/models/resnet18-f37072fd.pth\" to /root/.cache/torch/hub/checkpoints/resnet18-f37072fd.pth\n100%|███████████████████████████████████████| 44.7M/44.7M [00:00<00:00, 227MB/s]\nModel loaded successfully\n+------------------------------------------------------------------------------+\n|                            Program Configuration                            |\n+------------------------------------------------------------------------------+\nCurrent Date and Time: 2023-12-11 09:22:51 CET/CEST\nMax Epochs: 50\nTraining Path: data/gsv_xs/train/osaka\nValidation Path: data/sf_xs/test\nBatch Size: 64\nNumber of Workers: 4\nDescriptor Dimension: 512\nNumber of Predictions to Save: 0\nSave Only Wrong Predictions: False\nImage per Place: 4\nMinimum Image per Place: 4\nSampling Strategy: contextual\nModel not in testing mode, training from scratch.\n+------------------------------------------------------------------------------+\n|                             Model Configuration                             |\n+------------------------------------------------------------------------------+\nModel Architecture: ResNet\nPretrained: Yes\nOptimizer: SGD with lr=0.001, weight_decay=0.001, momentum=0.9\nLoss Function: ContrastiveLoss\n+------------------------------------------------------------------------------+\n|                             End of Configuration                             |\n+------------------------------------------------------------------------------+\nTrainer configured with GPU.\nTrainer initialized, all ready.\nStarting validation...\nR@1: 7.0, R@5: 14.9, R@10: 19.7, R@20: 26.9\n┏━━━━━━━━━━━━━━━━━━━━━━━━━━━┳━━━━━━━━━━━━━━━━━━━━━━━━━━━┓\n┃\u001B[1m \u001B[0m\u001B[1m     Validate metric     \u001B[0m\u001B[1m \u001B[0m┃\u001B[1m \u001B[0m\u001B[1m      DataLoader 0       \u001B[0m\u001B[1m \u001B[0m┃\n┡━━━━━━━━━━━━━━━━━━━━━━━━━━━╇━━━━━━━━━━━━━━━━━━━━━━━━━━━┩\n│\u001B[36m \u001B[0m\u001B[36m           R@1           \u001B[0m\u001B[36m \u001B[0m│\u001B[35m \u001B[0m\u001B[35m    7.000000000000001    \u001B[0m\u001B[35m \u001B[0m│\n│\u001B[36m \u001B[0m\u001B[36m           R@5           \u001B[0m\u001B[36m \u001B[0m│\u001B[35m \u001B[0m\u001B[35m   14.899999999999999    \u001B[0m\u001B[35m \u001B[0m│\n└───────────────────────────┴───────────────────────────┘\nValidation completed.\nStarting training...\nR@1: 5.4, R@5: 12.5, R@10: 15.1, R@20: 21.4\nEpoch 1 of 50 complete.\nR@1: 5.8, R@5: 11.9, R@10: 17.0, R@20: 21.8\nEpoch 2 of 50 complete.\nR@1: 6.4, R@5: 12.3, R@10: 17.8, R@20: 23.1\nEpoch 3 of 50 complete.\nR@1: 6.8, R@5: 12.8, R@10: 17.6, R@20: 24.3\nEpoch 4 of 50 complete.\nR@1: 6.4, R@5: 14.2, R@10: 20.0, R@20: 26.2\nEpoch 5 of 50 complete.\nR@1: 6.7, R@5: 14.1, R@10: 21.1, R@20: 26.9\nEpoch 6 of 50 complete.\n",
     "output_type": "stream"
    }
   ]
  },
  {
   "cell_type": "code",
   "source": [
    "# !python Project3AImageGeolocalization/main.py --train_path data/gsv_xs/train/osaka --val_path data/sf_xs/test --test_path data/sf_xs/val --num_workers 4 --mining_str"
   ],
   "metadata": {},
   "execution_count": null,
   "outputs": []
  }
 ]
}
